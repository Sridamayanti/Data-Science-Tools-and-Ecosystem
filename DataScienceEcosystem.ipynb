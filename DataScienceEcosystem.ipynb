{
 "cells": [
  {
   "cell_type": "markdown",
   "id": "d7bd7844",
   "metadata": {},
   "source": [
    "# Data Science Tools and Ecosystem"
   ]
  },
  {
   "cell_type": "markdown",
   "id": "9f58ed4f",
   "metadata": {},
   "source": [
    "Data Science Tools and Ecosystem refer to the set of software, programming languages, libraries, and frameworks that data scientists use to collect, analyze, visualize, and interpret data for various purposes, including gaining insights, making predictions, and informing decision-making. There is the digest of Data Science Tools and Ecosystem."
   ]
  },
  {
   "cell_type": "markdown",
   "id": "0cbd210d",
   "metadata": {},
   "source": [
    "Data scientists use various programming languages to work with data, perform statistical analysis, and building machine learning models. Here are some of the most commonly used programming languages for data science:\n",
    "1. Python: Python is the most popular programming language for data science, because it has a rich ecosystem of libraries and tools for data manipulation, analysis, and machine learning.\n",
    "2. R: R is a language and environment specifically designed for statistical analysis and data visualization. It's widely used in academia and by statisticians for data analysis. \n",
    "3. SQL (Structured Query Language): SQL is essential for working with relational databases.\n",
    "4. Java: Java is used in some data science applications, particularly in big data processing frameworks like Hadoop and Spark.\n",
    "5. Julia:Julia is a relatively new programming language designed for high-performance numerical and scientific computing. It's gaining popularity in the data science community for its speed and ease of use in numerical computations.\n",
    "6. SAS: SAS (Statistical Analysis System) is a software suite used in various industries for advanced analytics, business intelligence, and data management. It's commonly used in healthcare and finance.\n",
    "7. Scala: Scala is a programming language often used in conjunction with Apache Spark for big data processing and machine learning. It offers the benefits of functional programming while maintaining Java compatibility\n",
    "8. MATLAB: MATLAB is a proprietary language and environment primarily used in academic and research settings for numerical and scientific computing, including data analysis and visualization.\n",
    "9. Haskell: Haskell, a functional programming language, is not as widely used as Python or R in data science, but it's appreciated for its mathematical expressiveness and correctness.\n",
    "10. C/C++: These low-level programming languages are used for performance-critical tasks in data science, such as optimizing machine learning algorithms and working with large datasets.\n",
    "11. Perl: Perl is less common in modern data science but is still used for text processing and data manipulation in certain cases.\n",
    "\n",
    "The choice of programming language depends on the specific requirements of the data science project, the preferences of the data scientist, and the tools and libraries available for a given language. Python and R are the most popular and versatile languages for most data science tasks due to their extensive libraries and active communities."
   ]
  },
  {
   "cell_type": "markdown",
   "id": "2f3cb771",
   "metadata": {},
   "source": [
    "Some of the commonly used libraries used by Data Scientists include:\n",
    "1. TensorFlow: An open-source machine learning framework developed by Google. It's particularly popular for deep learning and neural network applications.\n",
    "2. NumPy: A fundamental library for numerical computing in Python. It provides support for large, multi-dimensional arrays and matrices, along with mathematical functions to operate on these arrays.\n",
    "3. SciPy: Built on top of NumPy, SciPy is an open-source library for mathematics, science, and engineering. It provides additional functionality for optimization, integration, interpolation, and more.\n",
    "4. Pandas: A Python library for data manipulation and analysis. It offers data structures like dataframes, which are particularly useful for working with structured data.\n",
    "5. Matplotlib: A popular Python library for creating static, animated, and interactive data visualizations. It's often used for creating charts, plots, and graphs.\n",
    "6. Keras: An open-source deep learning framework that serves as a high-level API on top of TensorFlow. It simplifies the process of building and training neural networks.\n",
    "7. SciKit-Learn: A comprehensive machine learning library for Python. It includes a wide range of algorithms for classification, regression, clustering, dimensionality reduction, and model evaluation.\n",
    "8. PyTorch: Another popular deep learning framework used for building and training neural networks. It's known for its dynamic computational graph."
   ]
  },
  {
   "cell_type": "markdown",
   "id": "24529b36",
   "metadata": {},
   "source": [
    "|Data Science Tools|\n",
    "|----|\n",
    "|SAS|\n",
    "|Apache Hadoop|\n",
    "|TensorFlow|\n",
    "|Power BI|"
   ]
  },
  {
   "cell_type": "markdown",
   "id": "8fb24c66",
   "metadata": {},
   "source": [
    "### Below are a few examples of evaluating arithmetic expressions in Python."
   ]
  },
  {
   "cell_type": "code",
   "execution_count": 2,
   "id": "1b0ebcfa",
   "metadata": {},
   "outputs": [
    {
     "data": {
      "text/plain": [
       "17"
      ]
     },
     "execution_count": 2,
     "metadata": {},
     "output_type": "execute_result"
    }
   ],
   "source": [
    "#this is a common arithmetic example to multiply and then add integers\n",
    "(3*4)+5"
   ]
  },
  {
   "cell_type": "code",
   "execution_count": 3,
   "id": "ce54c235",
   "metadata": {},
   "outputs": [
    {
     "data": {
      "text/plain": [
       "3.3333333333333335"
      ]
     },
     "execution_count": 3,
     "metadata": {},
     "output_type": "execute_result"
    }
   ],
   "source": [
    "#This will convert 200 minutes to hours by diving by 60\n",
    "200/60"
   ]
  },
  {
   "cell_type": "markdown",
   "id": "f3b63fb8",
   "metadata": {},
   "source": [
    "__Objective__\n",
    "* List some languages for Data Science\n",
    "* List some libraries for Data Science\n",
    "* List of some Data Science Tools\n",
    "* How to Provide comments in the cell and some mathematical expression"
   ]
  },
  {
   "cell_type": "markdown",
   "id": "57e5c627",
   "metadata": {},
   "source": [
    "## Author\n",
    "\n",
    "Ni Kadek Sri Damayanti"
   ]
  }
 ],
 "metadata": {
  "kernelspec": {
   "display_name": "Python 3 (ipykernel)",
   "language": "python",
   "name": "python3"
  },
  "language_info": {
   "codemirror_mode": {
    "name": "ipython",
    "version": 3
   },
   "file_extension": ".py",
   "mimetype": "text/x-python",
   "name": "python",
   "nbconvert_exporter": "python",
   "pygments_lexer": "ipython3",
   "version": "3.11.4"
  }
 },
 "nbformat": 4,
 "nbformat_minor": 5
}
